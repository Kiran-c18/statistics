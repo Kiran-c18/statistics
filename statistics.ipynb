{
 "cells": [
  {
   "cell_type": "markdown",
   "id": "baae42d2",
   "metadata": {},
   "source": [
    "probability calculation"
   ]
  },
  {
   "cell_type": "code",
   "execution_count": 1,
   "id": "f003ca91",
   "metadata": {},
   "outputs": [],
   "source": [
    "from scipy import stats"
   ]
  },
  {
   "cell_type": "code",
   "execution_count": 2,
   "id": "56866247",
   "metadata": {},
   "outputs": [
    {
     "data": {
      "text/plain": [
       "0.14254260383881612"
      ]
     },
     "execution_count": 2,
     "metadata": {},
     "output_type": "execute_result"
    }
   ],
   "source": [
    "#probability of x<=680\n",
    "stats.norm.cdf(680,loc=711,scale=29)"
   ]
  },
  {
   "cell_type": "code",
   "execution_count": 3,
   "id": "4a279f7d",
   "metadata": {},
   "outputs": [
    {
     "data": {
      "text/plain": [
       "0.5548525385738157"
      ]
     },
     "execution_count": 3,
     "metadata": {},
     "output_type": "execute_result"
    }
   ],
   "source": [
    "#probability of x<=715\n",
    "stats.norm.cdf(715,loc=711,scale=29)"
   ]
  },
  {
   "cell_type": "code",
   "execution_count": 4,
   "id": "8070a8b5",
   "metadata": {},
   "outputs": [
    {
     "data": {
      "text/plain": [
       "0.44514746142618433"
      ]
     },
     "execution_count": 4,
     "metadata": {},
     "output_type": "execute_result"
    }
   ],
   "source": [
    "#probability of x>=715\n",
    "1 - stats.norm.cdf(715,loc=711,scale=29)"
   ]
  },
  {
   "cell_type": "markdown",
   "id": "e1ad2c8c",
   "metadata": {},
   "source": [
    "between 680 and 715 "
   ]
  },
  {
   "cell_type": "code",
   "execution_count": 5,
   "id": "365e1731",
   "metadata": {},
   "outputs": [
    {
     "data": {
      "text/plain": [
       "0.41230993473499955"
      ]
     },
     "execution_count": 5,
     "metadata": {},
     "output_type": "execute_result"
    }
   ],
   "source": [
    "stats.norm.cdf(715,loc=711,scale=29) - stats.norm.cdf(680,loc=711,scale=29)"
   ]
  },
  {
   "cell_type": "code",
   "execution_count": 31,
   "id": "0cf8687c",
   "metadata": {},
   "outputs": [],
   "source": [
    "import pandas as pd\n",
    "import numpy as np"
   ]
  },
  {
   "cell_type": "code",
   "execution_count": 7,
   "id": "36e3081d",
   "metadata": {},
   "outputs": [
    {
     "data": {
      "text/html": [
       "<div>\n",
       "<style scoped>\n",
       "    .dataframe tbody tr th:only-of-type {\n",
       "        vertical-align: middle;\n",
       "    }\n",
       "\n",
       "    .dataframe tbody tr th {\n",
       "        vertical-align: top;\n",
       "    }\n",
       "\n",
       "    .dataframe thead th {\n",
       "        text-align: right;\n",
       "    }\n",
       "</style>\n",
       "<table border=\"1\" class=\"dataframe\">\n",
       "  <thead>\n",
       "    <tr style=\"text-align: right;\">\n",
       "      <th></th>\n",
       "      <th>Open</th>\n",
       "      <th>High</th>\n",
       "      <th>Low</th>\n",
       "      <th>Last</th>\n",
       "      <th>Close</th>\n",
       "      <th>Total Trade Quantity</th>\n",
       "      <th>Turnover (Lacs)</th>\n",
       "    </tr>\n",
       "    <tr>\n",
       "      <th>Date</th>\n",
       "      <th></th>\n",
       "      <th></th>\n",
       "      <th></th>\n",
       "      <th></th>\n",
       "      <th></th>\n",
       "      <th></th>\n",
       "      <th></th>\n",
       "    </tr>\n",
       "  </thead>\n",
       "  <tbody>\n",
       "    <tr>\n",
       "      <th>2010-01-04</th>\n",
       "      <td>1121.00</td>\n",
       "      <td>1151.00</td>\n",
       "      <td>1121.00</td>\n",
       "      <td>1134.00</td>\n",
       "      <td>1135.60</td>\n",
       "      <td>101651.0</td>\n",
       "      <td>1157.18</td>\n",
       "    </tr>\n",
       "    <tr>\n",
       "      <th>2010-01-05</th>\n",
       "      <td>1146.80</td>\n",
       "      <td>1149.00</td>\n",
       "      <td>1128.75</td>\n",
       "      <td>1135.00</td>\n",
       "      <td>1134.60</td>\n",
       "      <td>59504.0</td>\n",
       "      <td>676.47</td>\n",
       "    </tr>\n",
       "    <tr>\n",
       "      <th>2010-01-06</th>\n",
       "      <td>1140.00</td>\n",
       "      <td>1164.25</td>\n",
       "      <td>1130.05</td>\n",
       "      <td>1137.00</td>\n",
       "      <td>1139.60</td>\n",
       "      <td>128908.0</td>\n",
       "      <td>1482.84</td>\n",
       "    </tr>\n",
       "    <tr>\n",
       "      <th>2010-01-07</th>\n",
       "      <td>1142.00</td>\n",
       "      <td>1159.40</td>\n",
       "      <td>1119.20</td>\n",
       "      <td>1141.00</td>\n",
       "      <td>1144.15</td>\n",
       "      <td>117871.0</td>\n",
       "      <td>1352.98</td>\n",
       "    </tr>\n",
       "    <tr>\n",
       "      <th>2010-01-08</th>\n",
       "      <td>1156.00</td>\n",
       "      <td>1172.00</td>\n",
       "      <td>1140.00</td>\n",
       "      <td>1141.20</td>\n",
       "      <td>1144.05</td>\n",
       "      <td>170063.0</td>\n",
       "      <td>1971.42</td>\n",
       "    </tr>\n",
       "    <tr>\n",
       "      <th>...</th>\n",
       "      <td>...</td>\n",
       "      <td>...</td>\n",
       "      <td>...</td>\n",
       "      <td>...</td>\n",
       "      <td>...</td>\n",
       "      <td>...</td>\n",
       "      <td>...</td>\n",
       "    </tr>\n",
       "    <tr>\n",
       "      <th>2016-12-26</th>\n",
       "      <td>965.00</td>\n",
       "      <td>965.05</td>\n",
       "      <td>935.00</td>\n",
       "      <td>950.10</td>\n",
       "      <td>950.25</td>\n",
       "      <td>398696.0</td>\n",
       "      <td>3783.63</td>\n",
       "    </tr>\n",
       "    <tr>\n",
       "      <th>2016-12-27</th>\n",
       "      <td>960.70</td>\n",
       "      <td>989.00</td>\n",
       "      <td>952.35</td>\n",
       "      <td>974.00</td>\n",
       "      <td>975.70</td>\n",
       "      <td>808561.0</td>\n",
       "      <td>7885.14</td>\n",
       "    </tr>\n",
       "    <tr>\n",
       "      <th>2016-12-28</th>\n",
       "      <td>980.75</td>\n",
       "      <td>985.00</td>\n",
       "      <td>970.15</td>\n",
       "      <td>977.00</td>\n",
       "      <td>974.40</td>\n",
       "      <td>367041.0</td>\n",
       "      <td>3592.49</td>\n",
       "    </tr>\n",
       "    <tr>\n",
       "      <th>2016-12-29</th>\n",
       "      <td>977.10</td>\n",
       "      <td>997.95</td>\n",
       "      <td>974.55</td>\n",
       "      <td>985.15</td>\n",
       "      <td>986.05</td>\n",
       "      <td>555233.0</td>\n",
       "      <td>5489.14</td>\n",
       "    </tr>\n",
       "    <tr>\n",
       "      <th>2016-12-30</th>\n",
       "      <td>986.00</td>\n",
       "      <td>1006.95</td>\n",
       "      <td>985.90</td>\n",
       "      <td>1004.00</td>\n",
       "      <td>1000.60</td>\n",
       "      <td>460675.0</td>\n",
       "      <td>4606.48</td>\n",
       "    </tr>\n",
       "  </tbody>\n",
       "</table>\n",
       "<p>1739 rows × 7 columns</p>\n",
       "</div>"
      ],
      "text/plain": [
       "               Open     High      Low     Last    Close  Total Trade Quantity  \\\n",
       "Date                                                                            \n",
       "2010-01-04  1121.00  1151.00  1121.00  1134.00  1135.60              101651.0   \n",
       "2010-01-05  1146.80  1149.00  1128.75  1135.00  1134.60               59504.0   \n",
       "2010-01-06  1140.00  1164.25  1130.05  1137.00  1139.60              128908.0   \n",
       "2010-01-07  1142.00  1159.40  1119.20  1141.00  1144.15              117871.0   \n",
       "2010-01-08  1156.00  1172.00  1140.00  1141.20  1144.05              170063.0   \n",
       "...             ...      ...      ...      ...      ...                   ...   \n",
       "2016-12-26   965.00   965.05   935.00   950.10   950.25              398696.0   \n",
       "2016-12-27   960.70   989.00   952.35   974.00   975.70              808561.0   \n",
       "2016-12-28   980.75   985.00   970.15   977.00   974.40              367041.0   \n",
       "2016-12-29   977.10   997.95   974.55   985.15   986.05              555233.0   \n",
       "2016-12-30   986.00  1006.95   985.90  1004.00  1000.60              460675.0   \n",
       "\n",
       "            Turnover (Lacs)  \n",
       "Date                         \n",
       "2010-01-04          1157.18  \n",
       "2010-01-05           676.47  \n",
       "2010-01-06          1482.84  \n",
       "2010-01-07          1352.98  \n",
       "2010-01-08          1971.42  \n",
       "...                     ...  \n",
       "2016-12-26          3783.63  \n",
       "2016-12-27          7885.14  \n",
       "2016-12-28          3592.49  \n",
       "2016-12-29          5489.14  \n",
       "2016-12-30          4606.48  \n",
       "\n",
       "[1739 rows x 7 columns]"
      ]
     },
     "execution_count": 7,
     "metadata": {},
     "output_type": "execute_result"
    }
   ],
   "source": [
    "beml = pd.read_csv('BEML.csv',index_col='Date',parse_dates=True,dayfirst=True)\n",
    "beml"
   ]
  },
  {
   "cell_type": "code",
   "execution_count": 8,
   "id": "b1ed5635",
   "metadata": {},
   "outputs": [
    {
     "data": {
      "text/html": [
       "<div>\n",
       "<style scoped>\n",
       "    .dataframe tbody tr th:only-of-type {\n",
       "        vertical-align: middle;\n",
       "    }\n",
       "\n",
       "    .dataframe tbody tr th {\n",
       "        vertical-align: top;\n",
       "    }\n",
       "\n",
       "    .dataframe thead th {\n",
       "        text-align: right;\n",
       "    }\n",
       "</style>\n",
       "<table border=\"1\" class=\"dataframe\">\n",
       "  <thead>\n",
       "    <tr style=\"text-align: right;\">\n",
       "      <th></th>\n",
       "      <th>Close</th>\n",
       "    </tr>\n",
       "    <tr>\n",
       "      <th>Date</th>\n",
       "      <th></th>\n",
       "    </tr>\n",
       "  </thead>\n",
       "  <tbody>\n",
       "    <tr>\n",
       "      <th>2010-01-04</th>\n",
       "      <td>1135.60</td>\n",
       "    </tr>\n",
       "    <tr>\n",
       "      <th>2010-01-05</th>\n",
       "      <td>1134.60</td>\n",
       "    </tr>\n",
       "    <tr>\n",
       "      <th>2010-01-06</th>\n",
       "      <td>1139.60</td>\n",
       "    </tr>\n",
       "    <tr>\n",
       "      <th>2010-01-07</th>\n",
       "      <td>1144.15</td>\n",
       "    </tr>\n",
       "    <tr>\n",
       "      <th>2010-01-08</th>\n",
       "      <td>1144.05</td>\n",
       "    </tr>\n",
       "    <tr>\n",
       "      <th>...</th>\n",
       "      <td>...</td>\n",
       "    </tr>\n",
       "    <tr>\n",
       "      <th>2016-12-26</th>\n",
       "      <td>950.25</td>\n",
       "    </tr>\n",
       "    <tr>\n",
       "      <th>2016-12-27</th>\n",
       "      <td>975.70</td>\n",
       "    </tr>\n",
       "    <tr>\n",
       "      <th>2016-12-28</th>\n",
       "      <td>974.40</td>\n",
       "    </tr>\n",
       "    <tr>\n",
       "      <th>2016-12-29</th>\n",
       "      <td>986.05</td>\n",
       "    </tr>\n",
       "    <tr>\n",
       "      <th>2016-12-30</th>\n",
       "      <td>1000.60</td>\n",
       "    </tr>\n",
       "  </tbody>\n",
       "</table>\n",
       "<p>1739 rows × 1 columns</p>\n",
       "</div>"
      ],
      "text/plain": [
       "              Close\n",
       "Date               \n",
       "2010-01-04  1135.60\n",
       "2010-01-05  1134.60\n",
       "2010-01-06  1139.60\n",
       "2010-01-07  1144.15\n",
       "2010-01-08  1144.05\n",
       "...             ...\n",
       "2016-12-26   950.25\n",
       "2016-12-27   975.70\n",
       "2016-12-28   974.40\n",
       "2016-12-29   986.05\n",
       "2016-12-30  1000.60\n",
       "\n",
       "[1739 rows x 1 columns]"
      ]
     },
     "execution_count": 8,
     "metadata": {},
     "output_type": "execute_result"
    }
   ],
   "source": [
    "beml_df = beml[['Close']]\n",
    "beml_df"
   ]
  },
  {
   "cell_type": "code",
   "execution_count": 27,
   "id": "90ed093f",
   "metadata": {},
   "outputs": [
    {
     "data": {
      "text/html": [
       "<div>\n",
       "<style scoped>\n",
       "    .dataframe tbody tr th:only-of-type {\n",
       "        vertical-align: middle;\n",
       "    }\n",
       "\n",
       "    .dataframe tbody tr th {\n",
       "        vertical-align: top;\n",
       "    }\n",
       "\n",
       "    .dataframe thead th {\n",
       "        text-align: right;\n",
       "    }\n",
       "</style>\n",
       "<table border=\"1\" class=\"dataframe\">\n",
       "  <thead>\n",
       "    <tr style=\"text-align: right;\">\n",
       "      <th></th>\n",
       "      <th>Close</th>\n",
       "      <th>Gain</th>\n",
       "    </tr>\n",
       "    <tr>\n",
       "      <th>Date</th>\n",
       "      <th></th>\n",
       "      <th></th>\n",
       "    </tr>\n",
       "  </thead>\n",
       "  <tbody>\n",
       "    <tr>\n",
       "      <th>2010-01-05</th>\n",
       "      <td>1134.60</td>\n",
       "      <td>-0.000881</td>\n",
       "    </tr>\n",
       "    <tr>\n",
       "      <th>2010-01-06</th>\n",
       "      <td>1139.60</td>\n",
       "      <td>0.004407</td>\n",
       "    </tr>\n",
       "    <tr>\n",
       "      <th>2010-01-07</th>\n",
       "      <td>1144.15</td>\n",
       "      <td>0.003993</td>\n",
       "    </tr>\n",
       "    <tr>\n",
       "      <th>2010-01-08</th>\n",
       "      <td>1144.05</td>\n",
       "      <td>-0.000087</td>\n",
       "    </tr>\n",
       "    <tr>\n",
       "      <th>2010-01-11</th>\n",
       "      <td>1137.00</td>\n",
       "      <td>-0.006162</td>\n",
       "    </tr>\n",
       "    <tr>\n",
       "      <th>...</th>\n",
       "      <td>...</td>\n",
       "      <td>...</td>\n",
       "    </tr>\n",
       "    <tr>\n",
       "      <th>2016-12-26</th>\n",
       "      <td>950.25</td>\n",
       "      <td>-0.021924</td>\n",
       "    </tr>\n",
       "    <tr>\n",
       "      <th>2016-12-27</th>\n",
       "      <td>975.70</td>\n",
       "      <td>0.026782</td>\n",
       "    </tr>\n",
       "    <tr>\n",
       "      <th>2016-12-28</th>\n",
       "      <td>974.40</td>\n",
       "      <td>-0.001332</td>\n",
       "    </tr>\n",
       "    <tr>\n",
       "      <th>2016-12-29</th>\n",
       "      <td>986.05</td>\n",
       "      <td>0.011956</td>\n",
       "    </tr>\n",
       "    <tr>\n",
       "      <th>2016-12-30</th>\n",
       "      <td>1000.60</td>\n",
       "      <td>0.014756</td>\n",
       "    </tr>\n",
       "  </tbody>\n",
       "</table>\n",
       "<p>1738 rows × 2 columns</p>\n",
       "</div>"
      ],
      "text/plain": [
       "              Close      Gain\n",
       "Date                         \n",
       "2010-01-05  1134.60 -0.000881\n",
       "2010-01-06  1139.60  0.004407\n",
       "2010-01-07  1144.15  0.003993\n",
       "2010-01-08  1144.05 -0.000087\n",
       "2010-01-11  1137.00 -0.006162\n",
       "...             ...       ...\n",
       "2016-12-26   950.25 -0.021924\n",
       "2016-12-27   975.70  0.026782\n",
       "2016-12-28   974.40 -0.001332\n",
       "2016-12-29   986.05  0.011956\n",
       "2016-12-30  1000.60  0.014756\n",
       "\n",
       "[1738 rows x 2 columns]"
      ]
     },
     "execution_count": 27,
     "metadata": {},
     "output_type": "execute_result"
    }
   ],
   "source": [
    "beml_df['Gain']=beml_df['Close'].pct_change(periods=1)\n",
    "beml_df.dropna()"
   ]
  },
  {
   "cell_type": "code",
   "execution_count": 10,
   "id": "46e6e054",
   "metadata": {},
   "outputs": [],
   "source": [
    "import matplotlib.pyplot as plt"
   ]
  },
  {
   "cell_type": "code",
   "execution_count": 11,
   "id": "9e412add",
   "metadata": {},
   "outputs": [
    {
     "data": {
      "image/png": "[encoded data removed]",
      "text/plain": [
       "<Figure size 1200x300 with 1 Axes>"
      ]
     },
     "metadata": {},
     "output_type": "display_data"
    }
   ],
   "source": [
    "plt.figure(figsize=(12,3))\n",
    "plt.plot(beml_df)\n",
    "plt.show()"
   ]
  },
  {
   "cell_type": "code",
   "execution_count": 12,
   "id": "791513f6",
   "metadata": {},
   "outputs": [
    {
     "data": {
      "image/png": "[encoded data removed]",
      "text/plain": [
       "<Figure size 1200x300 with 1 Axes>"
      ]
     },
     "metadata": {},
     "output_type": "display_data"
    }
   ],
   "source": [
    "plt.figure(figsize=(12,3))\n",
    "plt.plot(beml_df['Gain'],color='green')\n",
    "plt.show()"
   ]
  },
  {
   "cell_type": "code",
   "execution_count": 13,
   "id": "602b8280",
   "metadata": {},
   "outputs": [
    {
     "data": {
      "text/html": [
       "<div>\n",
       "<style scoped>\n",
       "    .dataframe tbody tr th:only-of-type {\n",
       "        vertical-align: middle;\n",
       "    }\n",
       "\n",
       "    .dataframe tbody tr th {\n",
       "        vertical-align: top;\n",
       "    }\n",
       "\n",
       "    .dataframe thead th {\n",
       "        text-align: right;\n",
       "    }\n",
       "</style>\n",
       "<table border=\"1\" class=\"dataframe\">\n",
       "  <thead>\n",
       "    <tr style=\"text-align: right;\">\n",
       "      <th></th>\n",
       "      <th>Open</th>\n",
       "      <th>High</th>\n",
       "      <th>Low</th>\n",
       "      <th>Last</th>\n",
       "      <th>Close</th>\n",
       "      <th>Total Trade Quantity</th>\n",
       "      <th>Turnover (Lacs)</th>\n",
       "    </tr>\n",
       "    <tr>\n",
       "      <th>Date</th>\n",
       "      <th></th>\n",
       "      <th></th>\n",
       "      <th></th>\n",
       "      <th></th>\n",
       "      <th></th>\n",
       "      <th></th>\n",
       "      <th></th>\n",
       "    </tr>\n",
       "  </thead>\n",
       "  <tbody>\n",
       "    <tr>\n",
       "      <th>2010-01-04</th>\n",
       "      <td>1613.00</td>\n",
       "      <td>1629.10</td>\n",
       "      <td>1602.00</td>\n",
       "      <td>1629.0</td>\n",
       "      <td>1625.65</td>\n",
       "      <td>9365.0</td>\n",
       "      <td>151.74</td>\n",
       "    </tr>\n",
       "    <tr>\n",
       "      <th>2010-01-05</th>\n",
       "      <td>1639.95</td>\n",
       "      <td>1639.95</td>\n",
       "      <td>1611.05</td>\n",
       "      <td>1620.0</td>\n",
       "      <td>1616.80</td>\n",
       "      <td>38148.0</td>\n",
       "      <td>622.58</td>\n",
       "    </tr>\n",
       "    <tr>\n",
       "      <th>2010-01-06</th>\n",
       "      <td>1618.00</td>\n",
       "      <td>1644.00</td>\n",
       "      <td>1617.00</td>\n",
       "      <td>1639.0</td>\n",
       "      <td>1638.50</td>\n",
       "      <td>36519.0</td>\n",
       "      <td>595.09</td>\n",
       "    </tr>\n",
       "    <tr>\n",
       "      <th>2010-01-07</th>\n",
       "      <td>1645.00</td>\n",
       "      <td>1654.00</td>\n",
       "      <td>1636.00</td>\n",
       "      <td>1648.0</td>\n",
       "      <td>1648.70</td>\n",
       "      <td>12809.0</td>\n",
       "      <td>211.00</td>\n",
       "    </tr>\n",
       "    <tr>\n",
       "      <th>2010-01-08</th>\n",
       "      <td>1650.00</td>\n",
       "      <td>1650.00</td>\n",
       "      <td>1626.55</td>\n",
       "      <td>1640.0</td>\n",
       "      <td>1639.80</td>\n",
       "      <td>28035.0</td>\n",
       "      <td>459.11</td>\n",
       "    </tr>\n",
       "    <tr>\n",
       "      <th>...</th>\n",
       "      <td>...</td>\n",
       "      <td>...</td>\n",
       "      <td>...</td>\n",
       "      <td>...</td>\n",
       "      <td>...</td>\n",
       "      <td>...</td>\n",
       "      <td>...</td>\n",
       "    </tr>\n",
       "    <tr>\n",
       "      <th>2016-12-26</th>\n",
       "      <td>2703.00</td>\n",
       "      <td>2740.00</td>\n",
       "      <td>2677.00</td>\n",
       "      <td>2715.0</td>\n",
       "      <td>2723.50</td>\n",
       "      <td>3953.0</td>\n",
       "      <td>107.15</td>\n",
       "    </tr>\n",
       "    <tr>\n",
       "      <th>2016-12-27</th>\n",
       "      <td>2722.95</td>\n",
       "      <td>2725.00</td>\n",
       "      <td>2683.00</td>\n",
       "      <td>2692.0</td>\n",
       "      <td>2701.75</td>\n",
       "      <td>10600.0</td>\n",
       "      <td>286.10</td>\n",
       "    </tr>\n",
       "    <tr>\n",
       "      <th>2016-12-28</th>\n",
       "      <td>2701.75</td>\n",
       "      <td>2718.00</td>\n",
       "      <td>2690.00</td>\n",
       "      <td>2698.0</td>\n",
       "      <td>2702.15</td>\n",
       "      <td>6050.0</td>\n",
       "      <td>163.44</td>\n",
       "    </tr>\n",
       "    <tr>\n",
       "      <th>2016-12-29</th>\n",
       "      <td>2702.05</td>\n",
       "      <td>2739.00</td>\n",
       "      <td>2691.95</td>\n",
       "      <td>2710.0</td>\n",
       "      <td>2727.90</td>\n",
       "      <td>7649.0</td>\n",
       "      <td>207.87</td>\n",
       "    </tr>\n",
       "    <tr>\n",
       "      <th>2016-12-30</th>\n",
       "      <td>2730.00</td>\n",
       "      <td>2740.45</td>\n",
       "      <td>2705.00</td>\n",
       "      <td>2730.0</td>\n",
       "      <td>2729.80</td>\n",
       "      <td>6513.0</td>\n",
       "      <td>177.65</td>\n",
       "    </tr>\n",
       "  </tbody>\n",
       "</table>\n",
       "<p>1739 rows × 7 columns</p>\n",
       "</div>"
      ],
      "text/plain": [
       "               Open     High      Low    Last    Close  Total Trade Quantity  \\\n",
       "Date                                                                           \n",
       "2010-01-04  1613.00  1629.10  1602.00  1629.0  1625.65                9365.0   \n",
       "2010-01-05  1639.95  1639.95  1611.05  1620.0  1616.80               38148.0   \n",
       "2010-01-06  1618.00  1644.00  1617.00  1639.0  1638.50               36519.0   \n",
       "2010-01-07  1645.00  1654.00  1636.00  1648.0  1648.70               12809.0   \n",
       "2010-01-08  1650.00  1650.00  1626.55  1640.0  1639.80               28035.0   \n",
       "...             ...      ...      ...     ...      ...                   ...   \n",
       "2016-12-26  2703.00  2740.00  2677.00  2715.0  2723.50                3953.0   \n",
       "2016-12-27  2722.95  2725.00  2683.00  2692.0  2701.75               10600.0   \n",
       "2016-12-28  2701.75  2718.00  2690.00  2698.0  2702.15                6050.0   \n",
       "2016-12-29  2702.05  2739.00  2691.95  2710.0  2727.90                7649.0   \n",
       "2016-12-30  2730.00  2740.45  2705.00  2730.0  2729.80                6513.0   \n",
       "\n",
       "            Turnover (Lacs)  \n",
       "Date                         \n",
       "2010-01-04           151.74  \n",
       "2010-01-05           622.58  \n",
       "2010-01-06           595.09  \n",
       "2010-01-07           211.00  \n",
       "2010-01-08           459.11  \n",
       "...                     ...  \n",
       "2016-12-26           107.15  \n",
       "2016-12-27           286.10  \n",
       "2016-12-28           163.44  \n",
       "2016-12-29           207.87  \n",
       "2016-12-30           177.65  \n",
       "\n",
       "[1739 rows x 7 columns]"
      ]
     },
     "execution_count": 13,
     "metadata": {},
     "output_type": "execute_result"
    }
   ],
   "source": [
    "glaxo=pd.read_csv('GLAXO.csv',index_col='Date',parse_dates=True,dayfirst=True)\n",
    "glaxo"
   ]
  },
  {
   "cell_type": "code",
   "execution_count": 14,
   "id": "50a5f611",
   "metadata": {},
   "outputs": [
    {
     "data": {
      "text/html": [
       "<div>\n",
       "<style scoped>\n",
       "    .dataframe tbody tr th:only-of-type {\n",
       "        vertical-align: middle;\n",
       "    }\n",
       "\n",
       "    .dataframe tbody tr th {\n",
       "        vertical-align: top;\n",
       "    }\n",
       "\n",
       "    .dataframe thead th {\n",
       "        text-align: right;\n",
       "    }\n",
       "</style>\n",
       "<table border=\"1\" class=\"dataframe\">\n",
       "  <thead>\n",
       "    <tr style=\"text-align: right;\">\n",
       "      <th></th>\n",
       "      <th>Close</th>\n",
       "    </tr>\n",
       "    <tr>\n",
       "      <th>Date</th>\n",
       "      <th></th>\n",
       "    </tr>\n",
       "  </thead>\n",
       "  <tbody>\n",
       "    <tr>\n",
       "      <th>2010-01-04</th>\n",
       "      <td>1625.65</td>\n",
       "    </tr>\n",
       "    <tr>\n",
       "      <th>2010-01-05</th>\n",
       "      <td>1616.80</td>\n",
       "    </tr>\n",
       "    <tr>\n",
       "      <th>2010-01-06</th>\n",
       "      <td>1638.50</td>\n",
       "    </tr>\n",
       "    <tr>\n",
       "      <th>2010-01-07</th>\n",
       "      <td>1648.70</td>\n",
       "    </tr>\n",
       "    <tr>\n",
       "      <th>2010-01-08</th>\n",
       "      <td>1639.80</td>\n",
       "    </tr>\n",
       "    <tr>\n",
       "      <th>...</th>\n",
       "      <td>...</td>\n",
       "    </tr>\n",
       "    <tr>\n",
       "      <th>2016-12-26</th>\n",
       "      <td>2723.50</td>\n",
       "    </tr>\n",
       "    <tr>\n",
       "      <th>2016-12-27</th>\n",
       "      <td>2701.75</td>\n",
       "    </tr>\n",
       "    <tr>\n",
       "      <th>2016-12-28</th>\n",
       "      <td>2702.15</td>\n",
       "    </tr>\n",
       "    <tr>\n",
       "      <th>2016-12-29</th>\n",
       "      <td>2727.90</td>\n",
       "    </tr>\n",
       "    <tr>\n",
       "      <th>2016-12-30</th>\n",
       "      <td>2729.80</td>\n",
       "    </tr>\n",
       "  </tbody>\n",
       "</table>\n",
       "<p>1739 rows × 1 columns</p>\n",
       "</div>"
      ],
      "text/plain": [
       "              Close\n",
       "Date               \n",
       "2010-01-04  1625.65\n",
       "2010-01-05  1616.80\n",
       "2010-01-06  1638.50\n",
       "2010-01-07  1648.70\n",
       "2010-01-08  1639.80\n",
       "...             ...\n",
       "2016-12-26  2723.50\n",
       "2016-12-27  2701.75\n",
       "2016-12-28  2702.15\n",
       "2016-12-29  2727.90\n",
       "2016-12-30  2729.80\n",
       "\n",
       "[1739 rows x 1 columns]"
      ]
     },
     "execution_count": 14,
     "metadata": {},
     "output_type": "execute_result"
    }
   ],
   "source": [
    "glaxo_df = glaxo[['Close']]\n",
    "glaxo_df"
   ]
  },
  {
   "cell_type": "code",
   "execution_count": 15,
   "id": "36a4ca18",
   "metadata": {},
   "outputs": [],
   "source": [
    "import warnings \n",
    "warnings.filterwarnings('ignore')"
   ]
  },
  {
   "cell_type": "code",
   "execution_count": 16,
   "id": "e616f7d7",
   "metadata": {},
   "outputs": [],
   "source": [
    "glaxo_df['Gain'] = glaxo_df['Close'].pct_change(periods=1)"
   ]
  },
  {
   "cell_type": "code",
   "execution_count": 17,
   "id": "2fef3057",
   "metadata": {},
   "outputs": [
    {
     "data": {
      "text/html": [
       "<div>\n",
       "<style scoped>\n",
       "    .dataframe tbody tr th:only-of-type {\n",
       "        vertical-align: middle;\n",
       "    }\n",
       "\n",
       "    .dataframe tbody tr th {\n",
       "        vertical-align: top;\n",
       "    }\n",
       "\n",
       "    .dataframe thead th {\n",
       "        text-align: right;\n",
       "    }\n",
       "</style>\n",
       "<table border=\"1\" class=\"dataframe\">\n",
       "  <thead>\n",
       "    <tr style=\"text-align: right;\">\n",
       "      <th></th>\n",
       "      <th>Close</th>\n",
       "      <th>Gain</th>\n",
       "    </tr>\n",
       "    <tr>\n",
       "      <th>Date</th>\n",
       "      <th></th>\n",
       "      <th></th>\n",
       "    </tr>\n",
       "  </thead>\n",
       "  <tbody>\n",
       "    <tr>\n",
       "      <th>2010-01-05</th>\n",
       "      <td>1616.80</td>\n",
       "      <td>-0.005444</td>\n",
       "    </tr>\n",
       "    <tr>\n",
       "      <th>2010-01-06</th>\n",
       "      <td>1638.50</td>\n",
       "      <td>0.013422</td>\n",
       "    </tr>\n",
       "    <tr>\n",
       "      <th>2010-01-07</th>\n",
       "      <td>1648.70</td>\n",
       "      <td>0.006225</td>\n",
       "    </tr>\n",
       "    <tr>\n",
       "      <th>2010-01-08</th>\n",
       "      <td>1639.80</td>\n",
       "      <td>-0.005398</td>\n",
       "    </tr>\n",
       "    <tr>\n",
       "      <th>2010-01-11</th>\n",
       "      <td>1629.45</td>\n",
       "      <td>-0.006312</td>\n",
       "    </tr>\n",
       "    <tr>\n",
       "      <th>...</th>\n",
       "      <td>...</td>\n",
       "      <td>...</td>\n",
       "    </tr>\n",
       "    <tr>\n",
       "      <th>2016-12-26</th>\n",
       "      <td>2723.50</td>\n",
       "      <td>-0.001283</td>\n",
       "    </tr>\n",
       "    <tr>\n",
       "      <th>2016-12-27</th>\n",
       "      <td>2701.75</td>\n",
       "      <td>-0.007986</td>\n",
       "    </tr>\n",
       "    <tr>\n",
       "      <th>2016-12-28</th>\n",
       "      <td>2702.15</td>\n",
       "      <td>0.000148</td>\n",
       "    </tr>\n",
       "    <tr>\n",
       "      <th>2016-12-29</th>\n",
       "      <td>2727.90</td>\n",
       "      <td>0.009529</td>\n",
       "    </tr>\n",
       "    <tr>\n",
       "      <th>2016-12-30</th>\n",
       "      <td>2729.80</td>\n",
       "      <td>0.000697</td>\n",
       "    </tr>\n",
       "  </tbody>\n",
       "</table>\n",
       "<p>1738 rows × 2 columns</p>\n",
       "</div>"
      ],
      "text/plain": [
       "              Close      Gain\n",
       "Date                         \n",
       "2010-01-05  1616.80 -0.005444\n",
       "2010-01-06  1638.50  0.013422\n",
       "2010-01-07  1648.70  0.006225\n",
       "2010-01-08  1639.80 -0.005398\n",
       "2010-01-11  1629.45 -0.006312\n",
       "...             ...       ...\n",
       "2016-12-26  2723.50 -0.001283\n",
       "2016-12-27  2701.75 -0.007986\n",
       "2016-12-28  2702.15  0.000148\n",
       "2016-12-29  2727.90  0.009529\n",
       "2016-12-30  2729.80  0.000697\n",
       "\n",
       "[1738 rows x 2 columns]"
      ]
     },
     "execution_count": 17,
     "metadata": {},
     "output_type": "execute_result"
    }
   ],
   "source": [
    "glaxo_df.dropna()"
   ]
  },
  {
   "cell_type": "code",
   "execution_count": 18,
   "id": "e940addf",
   "metadata": {},
   "outputs": [
    {
     "data": {
      "image/png": "[encoded data removed]",
      "text/plain": [
       "<Figure size 1200x300 with 1 Axes>"
      ]
     },
     "metadata": {},
     "output_type": "display_data"
    }
   ],
   "source": [
    "plt.figure(figsize=(12,3))\n",
    "plt.plot(glaxo_df)\n",
    "plt.show()"
   ]
  },
  {
   "cell_type": "code",
   "execution_count": 19,
   "id": "b2c56ebc",
   "metadata": {},
   "outputs": [
    {
     "data": {
      "image/png": "[encoded data removed]",
      "text/plain": [
       "<Figure size 1200x300 with 1 Axes>"
      ]
     },
     "metadata": {},
     "output_type": "display_data"
    }
   ],
   "source": [
    "plt.figure(figsize=(12,3))\n",
    "plt.plot(glaxo_df['Gain'],color=\"blue\")\n",
    "plt.show()"
   ]
  },
  {
   "cell_type": "code",
   "execution_count": 20,
   "id": "49ff4a98",
   "metadata": {},
   "outputs": [
    {
     "data": {
      "text/plain": [
       "(0.02643083146847487, 0.013360538552253333)"
      ]
     },
     "execution_count": 20,
     "metadata": {},
     "output_type": "execute_result"
    }
   ],
   "source": [
    "beml_df['Gain'].std(),glaxo_df['Gain'].std()"
   ]
  },
  {
   "cell_type": "markdown",
   "id": "8e1885d9",
   "metadata": {},
   "source": [
    "beml is more volatile than glaxo "
   ]
  },
  {
   "cell_type": "markdown",
   "id": "222750db",
   "metadata": {},
   "source": [
    "which stock has probability of making a loss of 2%"
   ]
  },
  {
   "cell_type": "code",
   "execution_count": 21,
   "id": "08f59da8",
   "metadata": {},
   "outputs": [],
   "source": [
    "beml = stats.norm.cdf(-.02,loc=beml_df['Gain'].mean(),scale=beml_df['Gain'].std())"
   ]
  },
  {
   "cell_type": "code",
   "execution_count": 22,
   "id": "456c9bc6",
   "metadata": {},
   "outputs": [
    {
     "data": {
      "text/plain": [
       "0.22155987503755292"
      ]
     },
     "execution_count": 22,
     "metadata": {},
     "output_type": "execute_result"
    }
   ],
   "source": [
    "beml"
   ]
  },
  {
   "cell_type": "code",
   "execution_count": 23,
   "id": "ea718c73",
   "metadata": {},
   "outputs": [],
   "source": [
    "glaxo = stats.norm.cdf(-.02,loc=glaxo_df['Gain'].mean(),scale=glaxo_df['Gain'].std())"
   ]
  },
  {
   "cell_type": "code",
   "execution_count": 24,
   "id": "7bafd1e1",
   "metadata": {},
   "outputs": [
    {
     "data": {
      "text/plain": [
       "0.06352488667177397"
      ]
     },
     "execution_count": 24,
     "metadata": {},
     "output_type": "execute_result"
    }
   ],
   "source": [
    "glaxo"
   ]
  },
  {
   "cell_type": "markdown",
   "id": "a88a64eb",
   "metadata": {},
   "source": [
    "which stock has probability of making a gain of 2% or more "
   ]
  },
  {
   "cell_type": "code",
   "execution_count": 25,
   "id": "d51e2c9f",
   "metadata": {},
   "outputs": [
    {
     "data": {
      "text/plain": [
       "0.22769829484075343"
      ]
     },
     "execution_count": 25,
     "metadata": {},
     "output_type": "execute_result"
    }
   ],
   "source": [
    "beml_gain =1- stats.norm.cdf(.02,loc=beml_df['Gain'].mean(),scale=beml_df['Gain'].std())\n",
    "beml_gain"
   ]
  },
  {
   "cell_type": "code",
   "execution_count": 26,
   "id": "5481187e",
   "metadata": {},
   "outputs": [
    {
     "data": {
      "text/plain": [
       "0.07104511457618568"
      ]
     },
     "execution_count": 26,
     "metadata": {},
     "output_type": "execute_result"
    }
   ],
   "source": [
    "glaxo_gain = 1 - stats.norm.cdf(.02,loc=glaxo_df['Gain'].mean(),scale=glaxo_df['Gain'].std())\n",
    "glaxo_gain"
   ]
  },
  {
   "cell_type": "code",
   "execution_count": 29,
   "id": "234c6fe9",
   "metadata": {},
   "outputs": [],
   "source": [
    "# confidence intervals"
   ]
  },
  {
   "cell_type": "code",
   "execution_count": 35,
   "id": "368a0625",
   "metadata": {},
   "outputs": [
    {
     "data": {
      "text/plain": [
       "array([1575.882, 2404.118])"
      ]
     },
     "execution_count": 35,
     "metadata": {},
     "output_type": "execute_result"
    }
   ],
   "source": [
    "z_interval = stats.norm.interval(0.95,loc=1990,scale=2500/np.sqrt(140))\n",
    "np.round(z_interval,4)"
   ]
  },
  {
   "cell_type": "code",
   "execution_count": 36,
   "id": "1ad422db",
   "metadata": {},
   "outputs": [],
   "source": [
    "# when population standard deviation is not known we use t distribution"
   ]
  },
  {
   "cell_type": "code",
   "execution_count": 39,
   "id": "abf781db",
   "metadata": {},
   "outputs": [
    {
     "data": {
      "text/plain": [
       "array([1516.6, 2463.4])"
      ]
     },
     "execution_count": 39,
     "metadata": {},
     "output_type": "execute_result"
    }
   ],
   "source": [
    "t_interval = stats.t.interval(0.95,df=139,loc=1990,scale=2833/np.sqrt(140))\n",
    "np.round(t_interval,3) "
   ]
  },
  {
   "cell_type": "code",
   "execution_count": null,
   "id": "15eceb13",
   "metadata": {},
   "outputs": [],
   "source": []
  }
 ],
 "metadata": {
  "kernelspec": {
   "display_name": "Python 3 (ipykernel)",
   "language": "python",
   "name": "python3"
  },
  "language_info": {
   "codemirror_mode": {
    "name": "ipython",
    "version": 3
   },
   "file_extension": ".py",
   "mimetype": "text/x-python",
   "name": "python",
   "nbconvert_exporter": "python",
   "pygments_lexer": "ipython3",
   "version": "3.11.5"
  }
 },
 "nbformat": 4,
 "nbformat_minor": 5
}
